{
  "nbformat": 4,
  "nbformat_minor": 0,
  "metadata": {
    "colab": {
      "provenance": [],
      "mount_file_id": "17jxSwzu_9X8MH1b14eTIH_WJDY3WKN16",
      "authorship_tag": "ABX9TyMUGlCXKthG3BYnCl7IMCsv",
      "include_colab_link": true
    },
    "kernelspec": {
      "name": "python3",
      "display_name": "Python 3"
    },
    "language_info": {
      "name": "python"
    }
  },
  "cells": [
    {
      "cell_type": "markdown",
      "metadata": {
        "id": "view-in-github",
        "colab_type": "text"
      },
      "source": [
        "<a href=\"https://colab.research.google.com/github/Giulia-Mart/primeiro-exerc-cio-do-Colab/blob/main/atividade.ipynb\" target=\"_parent\"><img src=\"https://colab.research.google.com/assets/colab-badge.svg\" alt=\"Open In Colab\"/></a>"
      ]
    },
    {
      "cell_type": "code",
      "execution_count": 5,
      "metadata": {
        "id": "HdPux-ttt9jh"
      },
      "outputs": [],
      "source": [
        "import time\n",
        "\n",
        "def openLog(nomearq, modo = 'r'):\n",
        "\n",
        "  arqEntrada = open(nomearq, modo)\n",
        "\n",
        "  now = time.localtime()\n",
        "  nowFormat = time.strftime(' %A %b/%d/%y %I:%M %p', now)\n",
        "\n",
        "  arqSaída = open('log.txt', 'a')\n",
        "  log = '{}: Arquivo {} aberto. \\n'\n",
        "  arqSaída.write(log.format(nowFormat, nomearq))\n",
        "  arqSaída.close()\n",
        "\n",
        "  print('Registro realizado')\n",
        "\n",
        "  return arqEntrada\n"
      ]
    },
    {
      "cell_type": "code",
      "source": [
        "openLog(\"/content/drive/MyDrive/Fatec/Atividade Avaliativa/teste.txt\")"
      ],
      "metadata": {
        "colab": {
          "base_uri": "https://localhost:8080/"
        },
        "id": "Qg3vPZlOyXyY",
        "outputId": "35dc375b-d124-4d9b-85c5-d44f70a4baeb"
      },
      "execution_count": 6,
      "outputs": [
        {
          "output_type": "stream",
          "name": "stdout",
          "text": [
            "Registro realizado\n"
          ]
        },
        {
          "output_type": "execute_result",
          "data": {
            "text/plain": [
              "<_io.TextIOWrapper name='/content/drive/MyDrive/Fatec/Atividade Avaliativa/teste.txt' mode='r' encoding='utf-8'>"
            ]
          },
          "metadata": {},
          "execution_count": 6
        }
      ]
    }
  ]
}